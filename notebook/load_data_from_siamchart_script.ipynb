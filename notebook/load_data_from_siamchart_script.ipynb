{
 "cells": [
  {
   "cell_type": "code",
   "execution_count": 5,
   "metadata": {
    "collapsed": false
   },
   "outputs": [
    {
     "name": "stdout",
     "output_type": "stream",
     "text": [
      "The autoreload extension is already loaded. To reload it, use:\n",
      "  %reload_ext autoreload\n"
     ]
    }
   ],
   "source": [
    "import sys\n",
    "import pandas as pd\n",
    "import numpy as np\n",
    "sys.path.append('../script/')\n",
    "sys.path.append('../class/')\n",
    "import sunnytools as st\n",
    "%load_ext autoreload\n",
    "%autoreload 2\n",
    "%matplotlib inline"
   ]
  },
  {
   "cell_type": "code",
   "execution_count": 3,
   "metadata": {
    "collapsed": false
   },
   "outputs": [],
   "source": [
    "import siamchartdatareader as scdr\n",
    "dr=scdr.SiamChartDataReader()\n",
    "dr.loginToSiamChart()"
   ]
  },
  {
   "cell_type": "code",
   "execution_count": 7,
   "metadata": {
    "collapsed": false
   },
   "outputs": [],
   "source": [
    "all_thai_tickers = st.getAllThaiTickers()"
   ]
  },
  {
   "cell_type": "code",
   "execution_count": 8,
   "metadata": {
    "collapsed": false
   },
   "outputs": [
    {
     "data": {
      "text/plain": [
       "650"
      ]
     },
     "execution_count": 8,
     "metadata": {},
     "output_type": "execute_result"
    }
   ],
   "source": [
    "len(all_thai_tickers)"
   ]
  },
  {
   "cell_type": "code",
   "execution_count": 55,
   "metadata": {
    "collapsed": false
   },
   "outputs": [
    {
     "name": "stdout",
     "output_type": "stream",
     "text": [
      "Loading data for  MC\n",
      "Done for ticker  MC  size of dividend and fs df are  10 17\n",
      "Loading data for  AOT\n",
      "Done for ticker  AOT  size of dividend and fs df are  15 54\n"
     ]
    }
   ],
   "source": [
    "ticker_list=all_thai_tickers\n",
    "df_div_all=pd.DataFrame()\n",
    "df_fs_all=pd.DataFrame()\n",
    "bad_ticker=[]\n",
    "\n",
    "for ticker in ticker_list:\n",
    "    try:\n",
    "        tryRelogin=False\n",
    "        while True:\n",
    "            print('Loading data for ',ticker)\n",
    "            df_fs=dr.getFinancialData(ticker)\n",
    "            df_div=dr.getDividendData(ticker)\n",
    "            print('Done for ticker ',ticker,' size of dividend and fs df are ',len(df_div),len(df_fs))\n",
    "            if len(df_fs) <= 5 and not tryRelogin:\n",
    "                try:\n",
    "                    dr.loginToSiamChart()\n",
    "                except:\n",
    "                    print('log in not successful, probably stil in login session')\n",
    "                tryRelogin=True\n",
    "                time.sleep(1)\n",
    "                print(\"relogin and reload the data\")\n",
    "            else:\n",
    "                break\n",
    "\n",
    "        #add ticker\n",
    "        df_div.insert(0,'ticker',ticker)\n",
    "        df_fs.insert(0,'ticker',ticker)\n",
    "\n",
    "        #append to the big dataframe\n",
    "        df_div_all=df_div_all.append(df_div)\n",
    "        df_fs_all=df_fs_all.append(df_fs)\n",
    "    \n",
    "    except:\n",
    "        raise\n",
    "        bad_ticker.append(ticker)\n",
    "\n",
    "#reorganize columns\n",
    "prefix_cols=['ticker','revenue','net_profit','eps','dps','gross_profit','ebit','ebitda']\n",
    "cols=prefix_cols+[x for x in df_fs_all.columns if x not in prefix_cols]\n",
    "df_fs_all=df_fs_all[cols]"
   ]
  },
  {
   "cell_type": "markdown",
   "metadata": {},
   "source": [
    "## SAVE NEW VERSION"
   ]
  },
  {
   "cell_type": "code",
   "execution_count": 58,
   "metadata": {
    "collapsed": true
   },
   "outputs": [],
   "source": [
    "## SAVE TO NEW DATA FRAME"
   ]
  },
  {
   "cell_type": "markdown",
   "metadata": {},
   "source": [
    "## UPDATE/DEBUG DATA"
   ]
  },
  {
   "cell_type": "code",
   "execution_count": 90,
   "metadata": {
    "collapsed": false
   },
   "outputs": [
    {
     "name": "stdout",
     "output_type": "stream",
     "text": [
      "update information for ticker(s):  ['MC' 'AOT']\n"
     ]
    }
   ],
   "source": [
    "## UPDATE TO OLD DATA FRAME\n",
    "df_new=df_fs_all\n",
    "df_old=pd.read_csv('../data/fs/20170701_thai_fs.csv',parse_dates=[0],index_col=[0])\n",
    "df_old.index=df_old.index.date\n",
    "\n",
    "new_tickers=df_fs_all.ticker.unique()\n",
    "print('update information for ticker(s): ',new_tickers)\n",
    "\n",
    "df_update=df_new.append(df_old[~df_old.ticker.isin(new_tickers)])\n",
    "\n",
    "#rearrange columns\n",
    "prefix_cols=['ticker','revenue','net_profit','eps','dps','gross_profit','ebit','ebitda']\n",
    "cols=prefix_cols+[x for x in df_update.columns if x not in prefix_cols]\n",
    "df_update=df_update[cols]"
   ]
  },
  {
   "cell_type": "code",
   "execution_count": 91,
   "metadata": {
    "collapsed": false
   },
   "outputs": [
    {
     "data": {
      "text/plain": [
       "datetime.date(2013, 3, 31)"
      ]
     },
     "execution_count": 91,
     "metadata": {},
     "output_type": "execute_result"
    }
   ],
   "source": [
    "df_update.index[0]"
   ]
  },
  {
   "cell_type": "code",
   "execution_count": 92,
   "metadata": {
    "collapsed": false
   },
   "outputs": [
    {
     "data": {
      "text/html": [
       "<div>\n",
       "<table border=\"1\" class=\"dataframe\">\n",
       "  <thead>\n",
       "    <tr style=\"text-align: right;\">\n",
       "      <th></th>\n",
       "      <th>ticker</th>\n",
       "      <th>revenue</th>\n",
       "      <th>net_profit</th>\n",
       "      <th>eps</th>\n",
       "      <th>dps</th>\n",
       "      <th>gross_profit</th>\n",
       "      <th>ebit</th>\n",
       "      <th>ebitda</th>\n",
       "      <th>CurrentRatio</th>\n",
       "      <th>D/E</th>\n",
       "      <th>...</th>\n",
       "      <th>number_of_shares</th>\n",
       "      <th>operating_profit</th>\n",
       "      <th>paid_in_capital</th>\n",
       "      <th>property_plant_equipment</th>\n",
       "      <th>return_old</th>\n",
       "      <th>short_term_loan</th>\n",
       "      <th>total_asset</th>\n",
       "      <th>total_equity</th>\n",
       "      <th>total_liability</th>\n",
       "      <th>year</th>\n",
       "    </tr>\n",
       "  </thead>\n",
       "  <tbody>\n",
       "    <tr>\n",
       "      <th>2016-12-31</th>\n",
       "      <td>UOBKH</td>\n",
       "      <td>326.50</td>\n",
       "      <td>69.55</td>\n",
       "      <td>0.138926</td>\n",
       "      <td>-0.000316</td>\n",
       "      <td>NaN</td>\n",
       "      <td>86.07</td>\n",
       "      <td>95.93</td>\n",
       "      <td>NaN</td>\n",
       "      <td>0.97</td>\n",
       "      <td>...</td>\n",
       "      <td>500.625000</td>\n",
       "      <td>NaN</td>\n",
       "      <td>502.45</td>\n",
       "      <td>122.34</td>\n",
       "      <td>240.30</td>\n",
       "      <td>NaN</td>\n",
       "      <td>6220.46</td>\n",
       "      <td>3165.61</td>\n",
       "      <td>3054.85</td>\n",
       "      <td>2016</td>\n",
       "    </tr>\n",
       "    <tr>\n",
       "      <th>2017-03-31</th>\n",
       "      <td>UOBKH</td>\n",
       "      <td>311.71</td>\n",
       "      <td>70.74</td>\n",
       "      <td>0.140000</td>\n",
       "      <td>0.100000</td>\n",
       "      <td>NaN</td>\n",
       "      <td>88.33</td>\n",
       "      <td>98.42</td>\n",
       "      <td>NaN</td>\n",
       "      <td>0.94</td>\n",
       "      <td>...</td>\n",
       "      <td>505.285714</td>\n",
       "      <td>NaN</td>\n",
       "      <td>502.45</td>\n",
       "      <td>116.56</td>\n",
       "      <td>70.74</td>\n",
       "      <td>NaN</td>\n",
       "      <td>6276.49</td>\n",
       "      <td>3236.35</td>\n",
       "      <td>3040.14</td>\n",
       "      <td>2017</td>\n",
       "    </tr>\n",
       "    <tr>\n",
       "      <th>2016-09-30</th>\n",
       "      <td>COMAN</td>\n",
       "      <td>NaN</td>\n",
       "      <td>NaN</td>\n",
       "      <td>NaN</td>\n",
       "      <td>NaN</td>\n",
       "      <td>NaN</td>\n",
       "      <td>NaN</td>\n",
       "      <td>NaN</td>\n",
       "      <td>1.49</td>\n",
       "      <td>0.37</td>\n",
       "      <td>...</td>\n",
       "      <td>58.709677</td>\n",
       "      <td>NaN</td>\n",
       "      <td>50.00</td>\n",
       "      <td>3.26</td>\n",
       "      <td>18.20</td>\n",
       "      <td>NaN</td>\n",
       "      <td>190.09</td>\n",
       "      <td>138.25</td>\n",
       "      <td>51.84</td>\n",
       "      <td>2016</td>\n",
       "    </tr>\n",
       "    <tr>\n",
       "      <th>2016-12-31</th>\n",
       "      <td>COMAN</td>\n",
       "      <td>44.85</td>\n",
       "      <td>15.17</td>\n",
       "      <td>0.204570</td>\n",
       "      <td>0.000000</td>\n",
       "      <td>34.18</td>\n",
       "      <td>15.43</td>\n",
       "      <td>18.50</td>\n",
       "      <td>9.13</td>\n",
       "      <td>0.10</td>\n",
       "      <td>...</td>\n",
       "      <td>74.155556</td>\n",
       "      <td>15.68</td>\n",
       "      <td>67.00</td>\n",
       "      <td>4.55</td>\n",
       "      <td>33.37</td>\n",
       "      <td>NaN</td>\n",
       "      <td>448.87</td>\n",
       "      <td>408.19</td>\n",
       "      <td>40.68</td>\n",
       "      <td>2016</td>\n",
       "    </tr>\n",
       "    <tr>\n",
       "      <th>2017-03-31</th>\n",
       "      <td>COMAN</td>\n",
       "      <td>33.31</td>\n",
       "      <td>5.62</td>\n",
       "      <td>0.040000</td>\n",
       "      <td>0.000000</td>\n",
       "      <td>18.52</td>\n",
       "      <td>5.82</td>\n",
       "      <td>8.91</td>\n",
       "      <td>9.36</td>\n",
       "      <td>0.10</td>\n",
       "      <td>...</td>\n",
       "      <td>140.500000</td>\n",
       "      <td>4.69</td>\n",
       "      <td>67.00</td>\n",
       "      <td>4.90</td>\n",
       "      <td>5.62</td>\n",
       "      <td>NaN</td>\n",
       "      <td>451.72</td>\n",
       "      <td>411.05</td>\n",
       "      <td>40.66</td>\n",
       "      <td>2017</td>\n",
       "    </tr>\n",
       "  </tbody>\n",
       "</table>\n",
       "<p>5 rows × 51 columns</p>\n",
       "</div>"
      ],
      "text/plain": [
       "           ticker  revenue  net_profit       eps       dps  gross_profit  \\\n",
       "2016-12-31  UOBKH   326.50       69.55  0.138926 -0.000316           NaN   \n",
       "2017-03-31  UOBKH   311.71       70.74  0.140000  0.100000           NaN   \n",
       "2016-09-30  COMAN      NaN         NaN       NaN       NaN           NaN   \n",
       "2016-12-31  COMAN    44.85       15.17  0.204570  0.000000         34.18   \n",
       "2017-03-31  COMAN    33.31        5.62  0.040000  0.000000         18.52   \n",
       "\n",
       "             ebit  ebitda  CurrentRatio   D/E  ...   number_of_shares  \\\n",
       "2016-12-31  86.07   95.93           NaN  0.97  ...         500.625000   \n",
       "2017-03-31  88.33   98.42           NaN  0.94  ...         505.285714   \n",
       "2016-09-30    NaN     NaN          1.49  0.37  ...          58.709677   \n",
       "2016-12-31  15.43   18.50          9.13  0.10  ...          74.155556   \n",
       "2017-03-31   5.82    8.91          9.36  0.10  ...         140.500000   \n",
       "\n",
       "            operating_profit  paid_in_capital  property_plant_equipment  \\\n",
       "2016-12-31               NaN           502.45                    122.34   \n",
       "2017-03-31               NaN           502.45                    116.56   \n",
       "2016-09-30               NaN            50.00                      3.26   \n",
       "2016-12-31             15.68            67.00                      4.55   \n",
       "2017-03-31              4.69            67.00                      4.90   \n",
       "\n",
       "            return_old  short_term_loan  total_asset  total_equity  \\\n",
       "2016-12-31      240.30              NaN      6220.46       3165.61   \n",
       "2017-03-31       70.74              NaN      6276.49       3236.35   \n",
       "2016-09-30       18.20              NaN       190.09        138.25   \n",
       "2016-12-31       33.37              NaN       448.87        408.19   \n",
       "2017-03-31        5.62              NaN       451.72        411.05   \n",
       "\n",
       "            total_liability  year  \n",
       "2016-12-31          3054.85  2016  \n",
       "2017-03-31          3040.14  2017  \n",
       "2016-09-30            51.84  2016  \n",
       "2016-12-31            40.68  2016  \n",
       "2017-03-31            40.66  2017  \n",
       "\n",
       "[5 rows x 51 columns]"
      ]
     },
     "execution_count": 92,
     "metadata": {},
     "output_type": "execute_result"
    }
   ],
   "source": [
    "#double check\n",
    "df_update.tail()"
   ]
  },
  {
   "cell_type": "code",
   "execution_count": 93,
   "metadata": {
    "collapsed": false
   },
   "outputs": [],
   "source": [
    "#save\n",
    "from datetime import datetime\n",
    "outputDir = '../data/fs/'+datetime.today().strftime(format='%Y%m%d')+'_'+'thai_fs.csv'\n",
    "st.ensure_dir(outputDir)\n",
    "df_update.to_csv(outputDir)"
   ]
  },
  {
   "cell_type": "code",
   "execution_count": null,
   "metadata": {
    "collapsed": true
   },
   "outputs": [],
   "source": []
  }
 ],
 "metadata": {
  "kernelspec": {
   "display_name": "Python 3",
   "language": "python",
   "name": "python3"
  },
  "language_info": {
   "codemirror_mode": {
    "name": "ipython",
    "version": 3
   },
   "file_extension": ".py",
   "mimetype": "text/x-python",
   "name": "python",
   "nbconvert_exporter": "python",
   "pygments_lexer": "ipython3",
   "version": "3.6.0"
  }
 },
 "nbformat": 4,
 "nbformat_minor": 2
}
