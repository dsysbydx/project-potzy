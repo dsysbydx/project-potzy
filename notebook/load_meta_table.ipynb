{
 "cells": [
  {
   "cell_type": "code",
   "execution_count": 7,
   "metadata": {},
   "outputs": [
    {
     "name": "stdout",
     "output_type": "stream",
     "text": [
      "Print thai stock metadata headers ...\n",
      "                                       company market  \\\n",
      "ticker                                                  \n",
      "2S             2S METAL PUBLIC COMPANY LIMITED    mai   \n",
      "A       AREEYA PROPERTY PUBLIC COMPANY LIMITED    SET   \n",
      "AAV       ASIA AVIATION PUBLIC COMPANY LIMITED    SET   \n",
      "ABICO    ABICO HOLDINGS PUBLIC COMPANY LIMITED    mai   \n",
      "ABM        ASIA BIOMASS PUBLIC COMPANY LIMITED    mai   \n",
      "\n",
      "                       industry                      sector  \\\n",
      "ticker                                                        \n",
      "2S                   Industrial                           -   \n",
      "A       Property & Construction        Property Development   \n",
      "AAV                    Services  Transportation & Logistics   \n",
      "ABICO      Agro & Food Industry                           -   \n",
      "ABM                   Resources                           -   \n",
      "\n",
      "                                                  address zip code  \\\n",
      "ticker                                                               \n",
      "2S      8/5 Moo 14, Tha-change, Bangklam District Song...    90110   \n",
      "A       999 Praditmanutham road, Saphansong, Wangthong...    10310   \n",
      "AAV     222, Don Mueang International Airport, 3rd Fl....    10210   \n",
      "ABICO   401/1 Moo 8, 5th floor ABICO Building, Phaholy...    12130   \n",
      "ABM     273/2 Rama 2 Road, Samae Dam Sub-district, Ban...    10150   \n",
      "\n",
      "                     tel.          fax                  website  \n",
      "ticker                                                           \n",
      "2S            0-7480-0111  0-7480-1286             www.ss.co.th  \n",
      "A       0-2798-9999, 1797  0-2798-9990  http://www.areeya.co.th  \n",
      "AAV           0-2562-5700  0-2562-5705    http://www.aavplc.com  \n",
      "ABICO         0-2080-7899  0-2080-7805       www.abicogroup.com  \n",
      "ABM           0-2415-0054  0-2415-1102      www.asiabiomass.com  \n",
      "Saving result to  ../data/meta/thai_stocks.csv\n"
     ]
    }
   ],
   "source": [
    "##  COPY TO POTZY PACKAGE, TAKE THAT AS THE MAIN ONE\n",
    "import requests\n",
    "import string\n",
    "import pandas as pd\n",
    "\n",
    "SET_META_URL_MAIN = 'https://www.set.or.th/dat/eod/listedcompany/static/listedCompanies_en_US.xls'\n",
    "OUTPUT_FILE = '../data/meta/thai_stocks.csv'\n",
    "stock_table = pd.read_html(SET_META_URL_MAIN)[0]\n",
    "columns = stock_table.iloc[1]\n",
    "stock_table = stock_table.iloc[2:]\n",
    "stock_table.columns = [x.lower() for x in columns]\n",
    "stock_table.set_index('symbol',inplace=True)\n",
    "stock_table.index.name='ticker'\n",
    "\n",
    "############################### OLD STUFF ###########################################\n",
    "# SET_META_URL_PREFIX = 'https://www.set.or.th/set/commonslookup.do?language=th&country=TH&prefix='\n",
    "# prefix_list = [\"NUMBER\"]+list(string.ascii_uppercase[:27])\n",
    "# stock_table = pd.DataFrame()\n",
    "# for prefix in prefix_list:\n",
    "#     stock_table = stock_table.append(pd.read_html(SET_META_URL_PREFIX+prefix)[0],ignore_index=True)    \n",
    "# stock_table.columns = ['ticker','name','market']\n",
    "# stock_table.set_index('ticker',inplace=True)\n",
    "# ############################### OLD STUFF ###########################################\n",
    "\n",
    "\n",
    "#print result\n",
    "print('Print thai stock metadata headers ...')\n",
    "print(stock_table.head())\n",
    "print('Saving result to ',OUTPUT_FILE)\n",
    "\n",
    "#Save result\n",
    "stock_table.to_csv(OUTPUT_FILE)"
   ]
  },
  {
   "cell_type": "code",
   "execution_count": null,
   "metadata": {
    "collapsed": true
   },
   "outputs": [],
   "source": []
  },
  {
   "cell_type": "code",
   "execution_count": null,
   "metadata": {
    "collapsed": true
   },
   "outputs": [],
   "source": []
  }
 ],
 "metadata": {
  "kernelspec": {
   "display_name": "Python 3",
   "language": "python",
   "name": "python3"
  },
  "language_info": {
   "codemirror_mode": {
    "name": "ipython",
    "version": 3
   },
   "file_extension": ".py",
   "mimetype": "text/x-python",
   "name": "python",
   "nbconvert_exporter": "python",
   "pygments_lexer": "ipython3",
   "version": "3.6.2"
  }
 },
 "nbformat": 4,
 "nbformat_minor": 2
}
