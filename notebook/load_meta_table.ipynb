{
 "cells": [
  {
   "cell_type": "code",
   "execution_count": 20,
   "metadata": {},
   "outputs": [
    {
     "name": "stdout",
     "output_type": "stream",
     "text": [
      "Print thai stock metadata headers ...\n",
      "                                                     name market\n",
      "ticker                                                          \n",
      "2S                       บริษัท 2 เอส เมทัล จำกัด (มหาชน)    mai\n",
      "A                บริษัท อารียา พรอพเพอร์ตี้ จำกัด (มหาชน)    SET\n",
      "AAV                บริษัท เอเชีย เอวิเอชั่น จำกัด (มหาชน)    SET\n",
      "ABICO              บริษัท เอบิโก้ โฮลดิ้งส์ จำกัด (มหาชน)    mai\n",
      "ABPIF   กองทุนรวมโครงสร้างพื้นฐานโรงไฟฟ้า อมตะ บี.กริม...    SET\n",
      "Saving result to  ../data/meta/thai_stocks.csv\n"
     ]
    }
   ],
   "source": [
    "## \n",
    "import requests\n",
    "import string\n",
    "import pandas as pd\n",
    "\n",
    "SET_META_URL_PREFIX = 'https://www.set.or.th/set/commonslookup.do?language=th&country=TH&prefix='\n",
    "OUTPUT_FILE = '../data/meta/thai_stocks.csv'\n",
    "\n",
    "prefix_list = [\"NUMBER\"]+list(string.ascii_uppercase[:27])\n",
    "stock_table = pd.DataFrame()\n",
    "for prefix in prefix_list:\n",
    "    stock_table = stock_table.append(pd.read_html(SET_META_URL_PREFIX+prefix)[0],ignore_index=True)\n",
    "    \n",
    "stock_table.columns = ['ticker','name','market']\n",
    "stock_table.set_index('ticker',inplace=True)\n",
    "\n",
    "#print result\n",
    "print('Print thai stock metadata headers ...')\n",
    "print(stock_table.head())\n",
    "print('Saving result to ',OUTPUT_FILE)\n",
    "\n",
    "#Save result\n",
    "stock_table.to_csv(OUTPUT_FILE)"
   ]
  },
  {
   "cell_type": "code",
   "execution_count": null,
   "metadata": {
    "collapsed": true
   },
   "outputs": [],
   "source": []
  }
 ],
 "metadata": {
  "kernelspec": {
   "display_name": "Python 3",
   "language": "python",
   "name": "python3"
  },
  "language_info": {
   "codemirror_mode": {
    "name": "ipython",
    "version": 3
   },
   "file_extension": ".py",
   "mimetype": "text/x-python",
   "name": "python",
   "nbconvert_exporter": "python",
   "pygments_lexer": "ipython3",
   "version": "3.6.1"
  }
 },
 "nbformat": 4,
 "nbformat_minor": 2
}
