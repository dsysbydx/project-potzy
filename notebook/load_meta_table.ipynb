{
 "cells": [
  {
   "cell_type": "code",
   "execution_count": 20,
   "metadata": {},
   "outputs": [
    {
     "name": "stdout",
     "output_type": "stream",
     "text": [
      "Print thai stock metadata headers ...\n",
      "                                                     name market\n",
      "ticker                                                          \n",
      "2S                       บริษัท 2 เอส เมทัล จำกัด (มหาชน)    mai\n",
      "A                บริษัท อารียา พรอพเพอร์ตี้ จำกัด (มหาชน)    SET\n",
      "AAV                บริษัท เอเชีย เอวิเอชั่น จำกัด (มหาชน)    SET\n",
      "ABICO              บริษัท เอบิโก้ โฮลดิ้งส์ จำกัด (มหาชน)    mai\n",
      "ABPIF   กองทุนรวมโครงสร้างพื้นฐานโรงไฟฟ้า อมตะ บี.กริม...    SET\n",
      "Saving result to  ../data/meta/thai_stocks.csv\n"
     ]
    }
   ],
   "source": [
    "## \n",
    "import requests\n",
    "import string\n",
    "import pandas as pd\n",
    "\n",
    "SET_META_URL_PREFIX = 'https://www.set.or.th/set/commonslookup.do?language=th&country=TH&prefix='\n",
    "OUTPUT_FILE = '../data/meta/thai_stocks.csv'\n",
    "\n",
    "prefix_list = [\"NUMBER\"]+list(string.ascii_uppercase[:27])\n",
    "stock_table = pd.DataFrame()\n",
    "for prefix in prefix_list:\n",
    "    stock_table = stock_table.append(pd.read_html(SET_META_URL_PREFIX+prefix)[0],ignore_index=True)\n",
    "    \n",
    "stock_table.columns = ['ticker','name','market']\n",
    "stock_table.set_index('ticker',inplace=True)\n",
    "\n",
    "#print result\n",
    "print('Print thai stock metadata headers ...')\n",
    "print(stock_table.head())\n",
    "print('Saving result to ',OUTPUT_FILE)\n",
    "\n",
    "#Save result\n",
    "stock_table.to_csv(OUTPUT_FILE)"
   ]
  },
  {
   "cell_type": "code",
   "execution_count": null,
   "metadata": {
    "collapsed": true
   },
   "outputs": [],
   "source": [
    "import sys\n",
    "import pandas as pd\n",
    "import numpy as np\n",
    "import time\n",
    "sys.path.append('../')\n",
    "import potzy\n",
    "import potzy.siamchartdatareader as scdr\n",
    "\n",
    "#LOG IN INTO SIAMCHART\n",
    "dr=scdr.SiamChartDataReader()\n",
    "dr.loginToSiamChart()\n",
    "\n",
    "all_thai_tickers = potzy.metadata.getAllThaiTickers()\n",
    "\n",
    "num_round=0\n",
    "today = dt.date.today()\n",
    "year,month,day=today.year, today.month, today.day\n",
    "prefix_fs = '../data/siamchart/fs/'+'/'.join([str(year),str(month),str(day)])\n",
    "prefix_div = '../data/siamchart/div/'+'/'.join([str(year),str(month),str(day)])\n",
    "potzy.helpers.ensure_dir(prefix_fs)\n",
    "potzy.helpers.ensure_dir(prefix_div)\n",
    "\n",
    "while len(tickers_left) > 0 and num_round < 10:\n",
    "    for ticker in tickers_left:\n",
    "        try:\n",
    "            tryRelogin=False\n",
    "            while True:\n",
    "                print('Loading data for ',ticker)\n",
    "                df_fs=dr.getFinancialData(ticker)\n",
    "                df_div=dr.getDividendData(ticker)\n",
    "                print('Done for ticker ',ticker,' size of dividend and fs df are ',len(df_div),len(df_fs))\n",
    "                if len(df_fs) <= 5 and not tryRelogin:\n",
    "                    try:\n",
    "                        dr.loginToSiamChart()\n",
    "                    except:\n",
    "                        print('log in not successful, probably stil in login session')\n",
    "                    tryRelogin=True\n",
    "                    time.sleep(1)\n",
    "                    print(ticker, \": relogin and reload the data ... \")\n",
    "                else:\n",
    "                    break\n",
    "\n",
    "            #reorganize columns\n",
    "            prefix_cols=['revenue','net_profit','eps','dps','gross_profit','ebit','ebitda']\n",
    "            cols=prefix_cols+[x for x in df_fs.columns if x not in prefix_cols]\n",
    "            df_fs=df_fs[cols]\n",
    "\n",
    "            #save result\n",
    "            #df_fs.to_csv(prefix_fs+ticker+'.csv')\n",
    "            #df_div.to_csv(prefix_div+ticker+'.csv')\n",
    "\n",
    "            #\n",
    "            tickers_loaded.add(ticker)\n",
    "\n",
    "        except:\n",
    "            #raise\n",
    "            print('Error loading information for ticker ',ticker)\n",
    "            bad_tickers.add(ticker)\n",
    "\n",
    "    tickers_left = tickers_left.difference(tickers_loaded)\n",
    "    num_round+=1\n"
   ]
  },
  {
   "cell_type": "code",
   "execution_count": null,
   "metadata": {
    "collapsed": true
   },
   "outputs": [],
   "source": []
  }
 ],
 "metadata": {
  "kernelspec": {
   "display_name": "Python 3",
   "language": "python",
   "name": "python3"
  },
  "language_info": {
   "codemirror_mode": {
    "name": "ipython",
    "version": 3
   },
   "file_extension": ".py",
   "mimetype": "text/x-python",
   "name": "python",
   "nbconvert_exporter": "python",
   "pygments_lexer": "ipython3",
   "version": "3.6.2"
  }
 },
 "nbformat": 4,
 "nbformat_minor": 2
}
