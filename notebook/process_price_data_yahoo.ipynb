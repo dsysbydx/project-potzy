{
 "cells": [
  {
   "cell_type": "code",
   "execution_count": 26,
   "metadata": {},
   "outputs": [
    {
     "name": "stdout",
     "output_type": "stream",
     "text": [
      "The autoreload extension is already loaded. To reload it, use:\n",
      "  %reload_ext autoreload\n"
     ]
    }
   ],
   "source": [
    "%run 'header.ipynb'\n",
    "import glob"
   ]
  },
  {
   "cell_type": "code",
   "execution_count": 14,
   "metadata": {},
   "outputs": [],
   "source": [
    "date_asof = '20180310'\n",
    "all_files=glob.glob('../data/price/yahoo/'+dateasof+'/*.csv')\n",
    "df=pd.DataFrame()\n",
    "for files in all_files:\n",
    "    tmp =pd.read_csv(files)\n",
    "    tmp['ticker']=files.split('/')[-1][:-4]\n",
    "    df = df.append(tmp)\n",
    "## save file\n",
    "df.to_csv('../data/price/thai_price_all_yahoo_20180310.csv')\n",
    "\n",
    "print(len(df))\n",
    "df.head()"
   ]
  },
  {
   "cell_type": "code",
   "execution_count": 17,
   "metadata": {},
   "outputs": [
    {
     "data": {
      "text/plain": [
       "434"
      ]
     },
     "execution_count": 17,
     "metadata": {},
     "output_type": "execute_result"
    }
   ],
   "source": [
    "## get all set50, getall set100\n",
    "s50=get_set_50_tickers()\n",
    "s100=get_set_100_tickers()\n",
    "\n",
    "set(s50).difference(set(df['ticker'].unique()))"
   ]
  }
 ],
 "metadata": {
  "kernelspec": {
   "display_name": "Python 3",
   "language": "python",
   "name": "python3"
  },
  "language_info": {
   "codemirror_mode": {
    "name": "ipython",
    "version": 3
   },
   "file_extension": ".py",
   "mimetype": "text/x-python",
   "name": "python",
   "nbconvert_exporter": "python",
   "pygments_lexer": "ipython3",
   "version": "3.6.2"
  }
 },
 "nbformat": 4,
 "nbformat_minor": 2
}
