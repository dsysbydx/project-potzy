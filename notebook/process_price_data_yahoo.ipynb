{
 "cells": [
  {
   "cell_type": "markdown",
   "metadata": {},
   "source": [
    "## Process raw price files from yahoodatareader to one single for quick research\n",
    "\n",
    "We load raw price file from notebook load_price_yahoo_finance. This notebook combine those files into a single dataframe for quick research later on."
   ]
  },
  {
   "cell_type": "code",
   "execution_count": 30,
   "metadata": {},
   "outputs": [
    {
     "name": "stdout",
     "output_type": "stream",
     "text": [
      "The autoreload extension is already loaded. To reload it, use:\n",
      "  %reload_ext autoreload\n"
     ]
    }
   ],
   "source": [
    "%run 'header.ipynb'\n",
    "import glob"
   ]
  },
  {
   "cell_type": "code",
   "execution_count": 31,
   "metadata": {},
   "outputs": [
    {
     "name": "stdout",
     "output_type": "stream",
     "text": [
      "Number of files/tickers:  700\n",
      "1824110\n"
     ]
    },
    {
     "data": {
      "text/html": [
       "<div>\n",
       "<style>\n",
       "    .dataframe thead tr:only-child th {\n",
       "        text-align: right;\n",
       "    }\n",
       "\n",
       "    .dataframe thead th {\n",
       "        text-align: left;\n",
       "    }\n",
       "\n",
       "    .dataframe tbody tr th {\n",
       "        vertical-align: top;\n",
       "    }\n",
       "</style>\n",
       "<table border=\"1\" class=\"dataframe\">\n",
       "  <thead>\n",
       "    <tr style=\"text-align: right;\">\n",
       "      <th></th>\n",
       "      <th>Date</th>\n",
       "      <th>Open</th>\n",
       "      <th>High</th>\n",
       "      <th>Low</th>\n",
       "      <th>Close</th>\n",
       "      <th>Adj Close</th>\n",
       "      <th>Volume</th>\n",
       "      <th>ticker</th>\n",
       "    </tr>\n",
       "  </thead>\n",
       "  <tbody>\n",
       "    <tr>\n",
       "      <th>0</th>\n",
       "      <td>2009-09-02</td>\n",
       "      <td>1.503</td>\n",
       "      <td>1.719</td>\n",
       "      <td>1.503</td>\n",
       "      <td>1.719</td>\n",
       "      <td>1.067619</td>\n",
       "      <td>116504297</td>\n",
       "      <td>2S</td>\n",
       "    </tr>\n",
       "    <tr>\n",
       "      <th>1</th>\n",
       "      <td>2009-09-03</td>\n",
       "      <td>1.809</td>\n",
       "      <td>1.944</td>\n",
       "      <td>1.773</td>\n",
       "      <td>1.908</td>\n",
       "      <td>1.185002</td>\n",
       "      <td>141466807</td>\n",
       "      <td>2S</td>\n",
       "    </tr>\n",
       "    <tr>\n",
       "      <th>2</th>\n",
       "      <td>2009-09-04</td>\n",
       "      <td>1.908</td>\n",
       "      <td>1.917</td>\n",
       "      <td>1.800</td>\n",
       "      <td>1.800</td>\n",
       "      <td>1.117926</td>\n",
       "      <td>27410262</td>\n",
       "      <td>2S</td>\n",
       "    </tr>\n",
       "    <tr>\n",
       "      <th>3</th>\n",
       "      <td>2009-09-07</td>\n",
       "      <td>1.755</td>\n",
       "      <td>1.800</td>\n",
       "      <td>1.656</td>\n",
       "      <td>1.692</td>\n",
       "      <td>1.050850</td>\n",
       "      <td>23058760</td>\n",
       "      <td>2S</td>\n",
       "    </tr>\n",
       "    <tr>\n",
       "      <th>4</th>\n",
       "      <td>2009-09-08</td>\n",
       "      <td>1.683</td>\n",
       "      <td>1.737</td>\n",
       "      <td>1.656</td>\n",
       "      <td>1.665</td>\n",
       "      <td>1.034082</td>\n",
       "      <td>9555003</td>\n",
       "      <td>2S</td>\n",
       "    </tr>\n",
       "  </tbody>\n",
       "</table>\n",
       "</div>"
      ],
      "text/plain": [
       "         Date   Open   High    Low  Close  Adj Close     Volume ticker\n",
       "0  2009-09-02  1.503  1.719  1.503  1.719   1.067619  116504297     2S\n",
       "1  2009-09-03  1.809  1.944  1.773  1.908   1.185002  141466807     2S\n",
       "2  2009-09-04  1.908  1.917  1.800  1.800   1.117926   27410262     2S\n",
       "3  2009-09-07  1.755  1.800  1.656  1.692   1.050850   23058760     2S\n",
       "4  2009-09-08  1.683  1.737  1.656  1.665   1.034082    9555003     2S"
      ]
     },
     "execution_count": 31,
     "metadata": {},
     "output_type": "execute_result"
    }
   ],
   "source": [
    "input_path='../data/price/yahoo/20180310/'\n",
    "output_file='../data/price/thai_price_all_yahoo_20180310.csv'\n",
    "\n",
    "all_files=glob.glob(input_path+'*.csv')\n",
    "print(\"Number of files/tickers: \",len(all_files))\n",
    "df=pd.DataFrame()\n",
    "for files in all_files:\n",
    "    tmp =pd.read_csv(files)\n",
    "    tmp['ticker']=files.split('/')[-1][:-4]\n",
    "    df = df.append(tmp)\n",
    "## save file\n",
    "df.to_csv(output_file)\n",
    "\n",
    "print(len(df))\n",
    "df.head()"
   ]
  },
  {
   "cell_type": "code",
   "execution_count": 35,
   "metadata": {},
   "outputs": [
    {
     "data": {
      "text/plain": [
       "(set(), set())"
      ]
     },
     "execution_count": 35,
     "metadata": {},
     "output_type": "execute_result"
    }
   ],
   "source": [
    "## get all set50, getall set100, test coverage\n",
    "s50=potzy.metadata.load_set50_tickers()\n",
    "s100=potzy.metadata.load_set100_tickers()\n",
    "\n",
    "set(s50).difference(set(df['ticker'].unique())), set(s100).difference(set(df['ticker'].unique()))"
   ]
  }
 ],
 "metadata": {
  "kernelspec": {
   "display_name": "Python 3",
   "language": "python",
   "name": "python3"
  },
  "language_info": {
   "codemirror_mode": {
    "name": "ipython",
    "version": 3
   },
   "file_extension": ".py",
   "mimetype": "text/x-python",
   "name": "python",
   "nbconvert_exporter": "python",
   "pygments_lexer": "ipython3",
   "version": "3.6.2"
  }
 },
 "nbformat": 4,
 "nbformat_minor": 2
}
