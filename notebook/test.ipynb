{
 "cells": [
  {
   "cell_type": "code",
   "execution_count": 10,
   "metadata": {},
   "outputs": [],
   "source": [
    "import sys\n",
    "sys.path.append('../')\n",
    "import potzy\n",
    "import datetime as dt"
   ]
  },
  {
   "cell_type": "code",
   "execution_count": 11,
   "metadata": {},
   "outputs": [
    {
     "ename": "AttributeError",
     "evalue": "'builtin_function_or_method' object has no attribute 'year'",
     "output_type": "error",
     "traceback": [
      "\u001b[0;31m---------------------------------------------------------------------------\u001b[0m",
      "\u001b[0;31mAttributeError\u001b[0m                            Traceback (most recent call last)",
      "\u001b[0;32m<ipython-input-11-005d46eedcd0>\u001b[0m in \u001b[0;36m<module>\u001b[0;34m()\u001b[0m\n\u001b[0;32m----> 1\u001b[0;31m \u001b[0;34m'/'\u001b[0m\u001b[0;34m.\u001b[0m\u001b[0mjoin\u001b[0m\u001b[0;34m(\u001b[0m\u001b[0;34m[\u001b[0m\u001b[0mdt\u001b[0m\u001b[0;34m.\u001b[0m\u001b[0mdate\u001b[0m\u001b[0;34m.\u001b[0m\u001b[0mtoday\u001b[0m\u001b[0;34m.\u001b[0m\u001b[0myear\u001b[0m\u001b[0;34m,\u001b[0m\u001b[0mstr\u001b[0m\u001b[0;34m(\u001b[0m\u001b[0;36m1\u001b[0m\u001b[0;34m)\u001b[0m\u001b[0;34m,\u001b[0m\u001b[0mstr\u001b[0m\u001b[0;34m(\u001b[0m\u001b[0;36m1\u001b[0m\u001b[0;34m)\u001b[0m\u001b[0;34m,\u001b[0m\u001b[0;34m'as'\u001b[0m\u001b[0;34m]\u001b[0m\u001b[0;34m)\u001b[0m\u001b[0;34m\u001b[0m\u001b[0m\n\u001b[0m",
      "\u001b[0;31mAttributeError\u001b[0m: 'builtin_function_or_method' object has no attribute 'year'"
     ]
    }
   ],
   "source": [
    "## NOT IN USE YET ##\n",
    "class SiamChartDataReader:\n",
    "    \n",
    "    siamchart_url='http://siamchart.com/stock-info/'\n",
    "    \n",
    "    def __init__(self,browser=None):\n",
    "        if browser is None:\n",
    "            self.browser=webdriver.Chrome(executable_path = '/usr/local/bin/chromedriver')\n",
    "        else:\n",
    "            self.browser=browser\n",
    "        \n",
    "        self.fs={}\n",
    "        self.page_source={} \n",
    "        self.ticker=set()\n",
    "        \n",
    "    def addTicker(self,ticker_list):\n",
    "        return None\n",
    "         \n",
    "    def login(self,username=\"\",password=\"\"):\n",
    "        ## look at http://siamchart.com/forum/forum.php\n",
    "        self.browser.get(self.getUrl('INTUCH'))\n",
    "        input('Go login manually. Press enter to continue ..')\n",
    "        return None\n",
    "    \n",
    "    def loadPageSource(self,ticker,period):\n",
    "        self.browser.get(self.getUrl(ticker))\n",
    "        if period in ['quarter','q','Q']:\n",
    "            self.browser.find_element_by_xpath(\"//div[@onclick='displayQoQ();']\").click()\n",
    "        return self.browser.page_source\n",
    "    \n",
    "    def getUrl(self,ticker):\n",
    "        return self.siamchart_url+ticker.upper()+'/'\n",
    "    \n",
    "    def getFinancialData(self,ticker):\n",
    "        return self.fs[ticker]"
   ]
  },
  {
   "cell_type": "code",
   "execution_count": 18,
   "metadata": {},
   "outputs": [
    {
     "data": {
      "text/plain": [
       "'2017/11/18/CPALL'"
      ]
     },
     "execution_count": 18,
     "metadata": {},
     "output_type": "execute_result"
    }
   ],
   "source": []
  },
  {
   "cell_type": "code",
   "execution_count": null,
   "metadata": {
    "collapsed": true
   },
   "outputs": [],
   "source": []
  }
 ],
 "metadata": {
  "kernelspec": {
   "display_name": "Python 3",
   "language": "python",
   "name": "python3"
  },
  "language_info": {
   "codemirror_mode": {
    "name": "ipython",
    "version": 3
   },
   "file_extension": ".py",
   "mimetype": "text/x-python",
   "name": "python",
   "nbconvert_exporter": "python",
   "pygments_lexer": "ipython3",
   "version": "3.6.1"
  }
 },
 "nbformat": 4,
 "nbformat_minor": 2
}
