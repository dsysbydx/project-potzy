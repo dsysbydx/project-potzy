{
 "cells": [
  {
   "cell_type": "code",
   "execution_count": 15,
   "metadata": {},
   "outputs": [],
   "source": [
    "\"\"\" PROCESS CSV TO ONE MAIN DATAFRAME THEN WRITE TO SQL DB\"\"\"\n",
    "\n",
    "import glob\n",
    "import pandas as pd\n",
    "path='../data/siamchart/fs/2017/12/3/'\n",
    "all_files=glob.glob(path+'*.csv')\n",
    "\n",
    "# Load all ticker, add ticker columns, append\n",
    "df_all=pd.DataFrame()\n",
    "for f in all_files:\n",
    "    dfs = pd.read_csv(f,index_col=[0])\n",
    "    ticker=f.split('/')[-1].split('.')[0]\n",
    "    dfs['ticker']=ticker\n",
    "    df_all = df_all.append(dfs)\n",
    "df_all.index.name='time'\n",
    "\n",
    "import sqlite3\n",
    "conn=sqlite3.connect('fs.db')\n",
    "\n",
    "## SOME BUG ON DPS\n",
    "df_all.drop(['DPS','EPS'],axis=1,inplace=True)\n",
    "df_all.to_sql('thai_fs_all',conn)\n"
   ]
  }
 ],
 "metadata": {
  "kernelspec": {
   "display_name": "Python 3",
   "language": "python",
   "name": "python3"
  },
  "language_info": {
   "codemirror_mode": {
    "name": "ipython",
    "version": 3
   },
   "file_extension": ".py",
   "mimetype": "text/x-python",
   "name": "python",
   "nbconvert_exporter": "python",
   "pygments_lexer": "ipython3",
   "version": "3.6.2"
  }
 },
 "nbformat": 4,
 "nbformat_minor": 2
}
