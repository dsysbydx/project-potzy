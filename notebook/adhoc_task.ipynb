{
 "cells": [
  {
   "cell_type": "code",
   "execution_count": 2,
   "metadata": {
    "scrolled": false
   },
   "outputs": [],
   "source": [
    "## COPY TO .PY file under metadatareader\n",
    "\n",
    "import pandas as pd\n",
    "import requests\n",
    "import re\n",
    "\n",
    "SET100_SIAMCHART_URL='http://siamchart.com/stock/SET100'\n",
    "SET50_SIAMCHART_URL='http://siamchart.com/stock/SET50'\n",
    "\n",
    "def read_set_table_siamchart(url):\n",
    "    \"\"\"read set-table from siamchart url,\n",
    "    only test for set50,set100 page in siamchart.\"\"\"\n",
    "    res = requests.get(url)\n",
    "    regex = '<a href=\"/stock-chart/\\w*/'\n",
    "\n",
    "    all_tickers=[]\n",
    "    for m in re.finditer(regex, res.text):\n",
    "        link= str(m.group(0))\n",
    "        ticker = link.split('/')[-2]\n",
    "        all_tickers.append(ticker)\n",
    "    return all_tickers\n",
    "\n",
    "def load_set50_tickers():\n",
    "    return read_set_table_siamchart(SET50_SIAMCHART_URL)\n",
    "\n",
    "def load_set100_tickers():\n",
    "    return read_set_table_siamchart(SET100_SIAMCHART_URL)\n"
   ]
  },
  {
   "cell_type": "code",
   "execution_count": 6,
   "metadata": {},
   "outputs": [],
   "source": []
  },
  {
   "cell_type": "code",
   "execution_count": null,
   "metadata": {
    "collapsed": true
   },
   "outputs": [],
   "source": []
  },
  {
   "cell_type": "code",
   "execution_count": null,
   "metadata": {
    "collapsed": true
   },
   "outputs": [],
   "source": []
  }
 ],
 "metadata": {
  "kernelspec": {
   "display_name": "Python 3",
   "language": "python",
   "name": "python3"
  },
  "language_info": {
   "codemirror_mode": {
    "name": "ipython",
    "version": 3
   },
   "file_extension": ".py",
   "mimetype": "text/x-python",
   "name": "python",
   "nbconvert_exporter": "python",
   "pygments_lexer": "ipython3",
   "version": "3.6.2"
  }
 },
 "nbformat": 4,
 "nbformat_minor": 2
}
