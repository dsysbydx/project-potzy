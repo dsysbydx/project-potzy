{
 "cells": [
  {
   "cell_type": "code",
   "execution_count": 10,
   "metadata": {},
   "outputs": [
    {
     "name": "stdout",
     "output_type": "stream",
     "text": [
      "The autoreload extension is already loaded. To reload it, use:\n",
      "  %reload_ext autoreload\n"
     ]
    }
   ],
   "source": [
    "%run 'header.ipynb'"
   ]
  },
  {
   "cell_type": "code",
   "execution_count": 45,
   "metadata": {},
   "outputs": [],
   "source": [
    "SET_PRICE_URL='https://www.set.or.th/set/historicaltrading.do?'\n",
    "def load_price_data_from_set(ticker):\n",
    "    df=pd.DataFrame()\n",
    "    pg=0\n",
    "    while True:\n",
    "        url=SET_PRICE_URL+urlencode({'symbol':ticker,'page':pg, \"language\":'en','country':'US','type':'trading'})\n",
    "        df=df.append(pd.read_html(url)[0])\n",
    "        if len(df)>len(df.drop_duplicates()):\n",
    "            break\n",
    "        else:\n",
    "            pg+=1\n",
    "\n",
    "    print(pg,len(df),len(df.drop_duplicates()))\n",
    "    df.drop_duplicates(inplace=True)\n",
    "    df.columns=[x.lower() for x in df.columns]\n",
    "    return df"
   ]
  },
  {
   "cell_type": "code",
   "execution_count": 48,
   "metadata": {},
   "outputs": [
    {
     "name": "stdout",
     "output_type": "stream",
     "text": [
      "3 158 121\n"
     ]
    }
   ],
   "source": [
    "df=load_price_data_from_set('CPALL')"
   ]
  },
  {
   "cell_type": "code",
   "execution_count": null,
   "metadata": {
    "collapsed": true
   },
   "outputs": [],
   "source": []
  }
 ],
 "metadata": {
  "kernelspec": {
   "display_name": "Python 3",
   "language": "python",
   "name": "python3"
  },
  "language_info": {
   "codemirror_mode": {
    "name": "ipython",
    "version": 3
   },
   "file_extension": ".py",
   "mimetype": "text/x-python",
   "name": "python",
   "nbconvert_exporter": "python",
   "pygments_lexer": "ipython3",
   "version": "3.6.2"
  }
 },
 "nbformat": 4,
 "nbformat_minor": 2
}
