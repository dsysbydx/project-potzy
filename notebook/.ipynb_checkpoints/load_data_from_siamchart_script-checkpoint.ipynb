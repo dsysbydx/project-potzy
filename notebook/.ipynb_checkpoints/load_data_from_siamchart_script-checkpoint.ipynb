{
 "cells": [
  {
   "cell_type": "code",
   "execution_count": 54,
   "metadata": {
    "collapsed": false
   },
   "outputs": [
    {
     "name": "stdout",
     "output_type": "stream",
     "text": [
      "The autoreload extension is already loaded. To reload it, use:\n",
      "  %reload_ext autoreload\n"
     ]
    }
   ],
   "source": [
    "import sys\n",
    "import pandas as pd\n",
    "import numpy as np\n",
    "sys.path.append('../script/')\n",
    "sys.path.append('../class/')\n",
    "%load_ext autoreload\n",
    "%autoreload 2\n",
    "%matplotlib inline"
   ]
  },
  {
   "cell_type": "code",
   "execution_count": 50,
   "metadata": {
    "collapsed": false
   },
   "outputs": [],
   "source": [
    "import siamchartdatareader as scdr\n",
    "dr=scdr.SiamChartDataReader()\n",
    "dr.loginToSiamChart()"
   ]
  },
  {
   "cell_type": "code",
   "execution_count": 55,
   "metadata": {
    "collapsed": false
   },
   "outputs": [
    {
     "name": "stdout",
     "output_type": "stream",
     "text": [
      "Loading data for  MC\n",
      "Done for ticker  MC  size of dividend and fs df are  10 17\n",
      "Loading data for  AOT\n",
      "Done for ticker  AOT  size of dividend and fs df are  15 54\n"
     ]
    }
   ],
   "source": [
    "ticker_list=['MC','AOT']\n",
    "df_div_all=pd.DataFrame()\n",
    "df_fs_all=pd.DataFrame()\n",
    "bad_ticker=[]\n",
    "\n",
    "for ticker in ticker_list:\n",
    "    try:\n",
    "        tryRelogin=False\n",
    "        while True:\n",
    "            print('Loading data for ',ticker)\n",
    "            df_fs=dr.getFinancialData(ticker)\n",
    "            df_div=dr.getDividendData(ticker)\n",
    "            print('Done for ticker ',ticker,' size of dividend and fs df are ',len(df_div),len(df_fs))\n",
    "            if len(df_fs) <= 5 and not tryRelogin:\n",
    "                try:\n",
    "                    dr.loginToSiamChart()\n",
    "                except:\n",
    "                    print('log in not successful, probably stil in login session')\n",
    "                tryRelogin=True\n",
    "                time.sleep(1)\n",
    "                print(\"relogin and reload the data\")\n",
    "            else:\n",
    "                break\n",
    "\n",
    "        #add ticker\n",
    "        df_div.insert(0,'ticker',ticker)\n",
    "        df_fs.insert(0,'ticker',ticker)\n",
    "\n",
    "        #append to the big dataframe\n",
    "        df_div_all=df_div_all.append(df_div)\n",
    "        df_fs_all=df_fs_all.append(df_fs)\n",
    "    \n",
    "    except:\n",
    "        raise\n",
    "        bad_ticker.append(ticker)\n",
    "\n",
    "#reorganize columns\n",
    "prefix_cols=['ticker','revenue','net_profit','eps','dps','gross_profit','ebit','ebitda']\n",
    "cols=prefix_cols+[x for x in df_fs_all.columns if x not in prefix_cols]\n",
    "df_fs_all=df_fs_all[cols]"
   ]
  },
  {
   "cell_type": "markdown",
   "metadata": {},
   "source": [
    "## SAVE NEW VERSION"
   ]
  },
  {
   "cell_type": "code",
   "execution_count": 58,
   "metadata": {
    "collapsed": true
   },
   "outputs": [],
   "source": [
    "## SAVE TO NEW DATA FRAME"
   ]
  },
  {
   "cell_type": "markdown",
   "metadata": {},
   "source": [
    "## UPDATE/DEBUG DATA"
   ]
  },
  {
   "cell_type": "code",
   "execution_count": 69,
   "metadata": {
    "collapsed": false
   },
   "outputs": [
    {
     "name": "stdout",
     "output_type": "stream",
     "text": [
      "update information for ticker(s):  ['MC' 'AOT']\n"
     ]
    }
   ],
   "source": [
    "## UPDATE TO OLD DATA FRAME\n",
    "df_new=df_fs_all\n",
    "df_old=pd.read_csv('../data/thai_fs.csv')\n",
    "\n",
    "new_tickers=df_fs_all.ticker.unique()\n",
    "print('update information for ticker(s): ',new_tickers)\n",
    "\n",
    "df_update=df_new.append(df_old[~df_old.ticker.isin(new_tickers)])\n",
    "\n",
    "#rearrange columns\n",
    "prefix_cols=['ticker','revenue','net_profit','eps','dps','gross_profit','ebit','ebitda']\n",
    "cols=prefix_cols+[x for x in df_update.columns if x not in prefix_cols]\n",
    "df_update=df_update[cols]"
   ]
  },
  {
   "cell_type": "code",
   "execution_count": null,
   "metadata": {
    "collapsed": true
   },
   "outputs": [],
   "source": [
    "#double check\n",
    "df_update"
   ]
  },
  {
   "cell_type": "code",
   "execution_count": null,
   "metadata": {
    "collapsed": true
   },
   "outputs": [],
   "source": [
    "#save\n",
    "df_update="
   ]
  },
  {
   "cell_type": "code",
   "execution_count": null,
   "metadata": {
    "collapsed": true
   },
   "outputs": [],
   "source": []
  }
 ],
 "metadata": {
  "kernelspec": {
   "display_name": "Python 3",
   "language": "python",
   "name": "python3"
  },
  "language_info": {
   "codemirror_mode": {
    "name": "ipython",
    "version": 3
   },
   "file_extension": ".py",
   "mimetype": "text/x-python",
   "name": "python",
   "nbconvert_exporter": "python",
   "pygments_lexer": "ipython3",
   "version": "3.6.0"
  }
 },
 "nbformat": 4,
 "nbformat_minor": 2
}
