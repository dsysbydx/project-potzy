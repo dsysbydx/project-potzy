{
 "cells": [
  {
   "cell_type": "code",
   "execution_count": 1,
   "metadata": {
    "collapsed": true
   },
   "outputs": [],
   "source": [
    "import sys\n",
    "import pandas as pd\n",
    "import numpy as np\n",
    "import time\n",
    "sys.path.append('../script/')\n",
    "sys.path.append('../class/')\n",
    "import sunnytools as st\n",
    "%load_ext autoreload\n",
    "%autoreload 2\n",
    "%matplotlib inline"
   ]
  },
  {
   "cell_type": "code",
   "execution_count": 2,
   "metadata": {
    "collapsed": true
   },
   "outputs": [],
   "source": [
    "#LOG IN INTO SIAMCHART\n",
    "import siamchartdatareader as scdr\n",
    "dr=scdr.SiamChartDataReader()\n",
    "dr.loginToSiamChart()\n",
    "\n",
    "all_thai_tickers = st.getAllThaiTickers()"
   ]
  },
  {
   "cell_type": "code",
   "execution_count": 3,
   "metadata": {},
   "outputs": [
    {
     "name": "stdout",
     "output_type": "stream",
     "text": [
      "1\n"
     ]
    }
   ],
   "source": [
    "##### FOR Getting Tickers Not Yet Loaded ######\n",
    "import os\n",
    "all_thai_tickers = st.getAllThaiTickers()\n",
    "tickers_success = set()\n",
    "directory = os.fsencode(\"/Users/Sunny/GoogleDrive/SunnyDoc/Github/project-potzy/data/th/fs/\")\n",
    "for file in os.listdir(directory):\n",
    "    filename = os.fsdecode(file)\n",
    "    if filename.endswith(\".csv\"):\n",
    "        tickers_success.add(filename[:-4])\n",
    "tickers_fail = set(all_thai_tickers).difference(tickers_success)\n",
    "print(len(tickers_fail))"
   ]
  },
  {
   "cell_type": "code",
   "execution_count": null,
   "metadata": {
    "collapsed": true
   },
   "outputs": [],
   "source": [
    "#initialize (modify here for rerun)\n",
    "\n",
    "#tickers_left=set(all_thai_tickers)\n",
    "tickers_left=tickers_fail\n",
    "\n",
    "df_div_all=pd.DataFrame()\n",
    "df_fs_all=pd.DataFrame()\n",
    "bad_tickers=set()\n",
    "tickers_loaded=set()\n",
    "\n",
    "print(len(tickers_left))\n",
    "tickers_left"
   ]
  },
  {
   "cell_type": "code",
   "execution_count": null,
   "metadata": {
    "collapsed": true,
    "scrolled": true
   },
   "outputs": [],
   "source": [
    "num_round=0\n",
    "while len(tickers_left) > 0 and num_round < 10:\n",
    "    for ticker in tickers_left:\n",
    "        try:\n",
    "            tryRelogin=False\n",
    "            while True:\n",
    "                print('Loading data for ',ticker)\n",
    "                df_fs=dr.getFinancialData(ticker)\n",
    "                df_div=dr.getDividendData(ticker)\n",
    "                print('Done for ticker ',ticker,' size of dividend and fs df are ',len(df_div),len(df_fs))\n",
    "                if len(df_fs) <= 5 and not tryRelogin:\n",
    "                    try:\n",
    "                        dr.loginToSiamChart()\n",
    "                    except:\n",
    "                        print('log in not successful, probably stil in login session')\n",
    "                    tryRelogin=True\n",
    "                    time.sleep(1)\n",
    "                    print(\"relogin and reload the data\")\n",
    "                else:\n",
    "                    break\n",
    "\n",
    "            #reorganize columns\n",
    "            prefix_cols=['revenue','net_profit','eps','dps','gross_profit','ebit','ebitda']\n",
    "            cols=prefix_cols+[x for x in df_fs.columns if x not in prefix_cols]\n",
    "            df_fs=df_fs[cols]\n",
    "\n",
    "            #save result\n",
    "            df_fs.to_csv('../data/th/fs/'+ticker+'.csv')\n",
    "            df_div.to_csv('../data/th/div/'+ticker+'.csv')\n",
    "            \n",
    "            #\n",
    "            tickers_loaded.add(ticker)\n",
    "\n",
    "        except:\n",
    "            #raise\n",
    "            print('Error loading information for ticker ',ticker)\n",
    "            bad_tickers.add(ticker)\n",
    "            \n",
    "    tickers_left = tickers_left.difference(tickers_loaded)\n",
    "    num_round+=1\n",
    "    "
   ]
  },
  {
   "cell_type": "code",
   "execution_count": null,
   "metadata": {
    "collapsed": true,
    "scrolled": true
   },
   "outputs": [],
   "source": [
    "# #### OLD CODE : SINGLE FILE ####\n",
    "\n",
    "# for ticker in ticker_list:\n",
    "#     try:\n",
    "#         tryRelogin=False\n",
    "#         while True:\n",
    "#             print('Loading data for ',ticker)\n",
    "#             df_fs=dr.getFinancialData(ticker)\n",
    "#             df_div=dr.getDividendData(ticker)\n",
    "#             print('Done for ticker ',ticker,' size of dividend and fs df are ',len(df_div),len(df_fs))\n",
    "#             if len(df_fs) <= 5 and not tryRelogin:\n",
    "#                 try:\n",
    "#                     dr.loginToSiamChart()\n",
    "#                 except:\n",
    "#                     print('log in not successful, probably stil in login session')\n",
    "#                 tryRelogin=True\n",
    "#                 time.sleep(1)\n",
    "#                 print(\"relogin and reload the data\")\n",
    "#             else:\n",
    "#                 break\n",
    "\n",
    "#         #add ticker\n",
    "#         df_div.insert(0,'ticker',ticker)\n",
    "#         df_fs.insert(0,'ticker',ticker)\n",
    "\n",
    "#         #append to the big dataframe\n",
    "#         df_div_all=df_div_all.append(df_div)\n",
    "#         df_fs_all=df_fs_all.append(df_fs)\n",
    "    \n",
    "#     except:\n",
    "#         #raise\n",
    "#         print('Error loading information for ticker ',ticker)\n",
    "#         bad_ticker.append(ticker)\n",
    "\n",
    "# #reorganize columns\n",
    "# prefix_cols=['ticker','revenue','net_profit','eps','dps','gross_profit','ebit','ebitda']\n",
    "# cols=prefix_cols+[x for x in df_fs_all.columns if x not in prefix_cols]\n",
    "# df_fs_all=df_fs_all[cols]"
   ]
  },
  {
   "cell_type": "code",
   "execution_count": null,
   "metadata": {
    "collapsed": true
   },
   "outputs": [],
   "source": []
  }
 ],
 "metadata": {
  "kernelspec": {
   "display_name": "Python 3",
   "language": "python",
   "name": "python3"
  },
  "language_info": {
   "codemirror_mode": {
    "name": "ipython",
    "version": 3
   },
   "file_extension": ".py",
   "mimetype": "text/x-python",
   "name": "python",
   "nbconvert_exporter": "python",
   "pygments_lexer": "ipython3",
   "version": "3.6.1"
  }
 },
 "nbformat": 4,
 "nbformat_minor": 2
}
