{
 "cells": [
  {
   "cell_type": "code",
   "execution_count": 2,
   "metadata": {},
   "outputs": [],
   "source": [
    "## IMPORT STUFF\n",
    "import sys\n",
    "import pandas as pd\n",
    "import numpy as np\n",
    "import datetime as dt\n",
    "import time\n",
    "import glob\n",
    "sys.path.append('../')\n",
    "sys.path.append('../potzy/')\n",
    "\n",
    "#LOG IN INTO SIAMCHART\n",
    "import potzy.metadata\n",
    "import potzy.helpers\n",
    "import potzy.siamchartdatareader as scdr\n",
    "\n",
    "%load_ext autoreload\n",
    "%autoreload"
   ]
  },
  {
   "cell_type": "code",
   "execution_count": 3,
   "metadata": {},
   "outputs": [
    {
     "name": "stdout",
     "output_type": "stream",
     "text": [
      "746 0 746\n"
     ]
    }
   ],
   "source": [
    "### SET PATH AND TICKERS LOADED\n",
    "\n",
    "#dates = dt.date(2017,11,25)   \n",
    "dates = dt.date.today()\n",
    "\n",
    "year,month,day=dates.year, dates.month, dates.day\n",
    "prefix_fs = '../data/siamchart/fs/'+'/'.join([str(year),str(month),str(day)])+'/'\n",
    "prefix_div = '../data/siamchart/div/'+'/'.join([str(year),str(month),str(day)])+'/'\n",
    "potzy.helpers.ensure_dir(prefix_fs)\n",
    "potzy.helpers.ensure_dir(prefix_div)\n",
    "\n",
    "all_thai_tickers = potzy.metadata.get_all_thai_tickers()\n",
    "tickers_in_path = [x.split('/')[-1].split('.')[0] for x in glob.glob(prefix_fs+'/*.csv')]\n",
    "tickers_left = [x for x in all_thai_tickers if x not in tickers_in_path]\n",
    "\n",
    "print(len(all_thai_tickers), len(tickers_in_path), len(tickers_left))"
   ]
  },
  {
   "cell_type": "code",
   "execution_count": 4,
   "metadata": {},
   "outputs": [
    {
     "name": "stdout",
     "output_type": "stream",
     "text": [
      "746\n"
     ]
    }
   ],
   "source": [
    "## CONFIRM tickers_load (w)\n",
    "tickers_left = tickers_left \n",
    "print(len(tickers_left))"
   ]
  },
  {
   "cell_type": "code",
   "execution_count": null,
   "metadata": {
    "scrolled": false
   },
   "outputs": [],
   "source": [
    "#### MAIN SCRIPT: DO NOT MODIFY ####\n",
    "\n",
    "## login \n",
    "dr=scdr.SiamChartDataReader()\n",
    "dr.loginToSiamChart()\n",
    "\n",
    "# set for-loop for loading\n",
    "num_round=0\n",
    "tickers_loaded,bad_tickers = [],set()\n",
    "while len(tickers_left) > 0 and num_round < 10:\n",
    "    for ticker in tickers_left:\n",
    "        try:\n",
    "            tryRelogin=False\n",
    "            while True:\n",
    "                print(ticker, ': Loading data for ',ticker)\n",
    "                df_fs=dr.getFinancialData(ticker)\n",
    "                df_div=dr.getDividendData(ticker)\n",
    "                print(ticker,': Done for ticker ',ticker,' size of dividend and fs df are ',len(df_div),len(df_fs))\n",
    "                if len(df_fs) <= 5 and not tryRelogin:\n",
    "                    try:\n",
    "                        dr.loginToSiamChart()\n",
    "                    except:\n",
    "                        print(ticker,': log in not successful, probably stil in login session')\n",
    "                    tryRelogin=True\n",
    "                    time.sleep(1)\n",
    "                    print(ticker, \": relogin and reload the data ... \")\n",
    "                else:\n",
    "                    break\n",
    "\n",
    "            #reorganize columns\n",
    "            prefix_cols=['revenue','net_profit','eps','dps','gross_profit','ebit','ebitda']\n",
    "            cols=prefix_cols+[x for x in df_fs.columns if x not in prefix_cols]\n",
    "            df_fs=df_fs[cols]\n",
    "\n",
    "            #save result\n",
    "            df_fs.to_csv(prefix_fs+ticker+'.csv')\n",
    "            df_div.to_csv(prefix_div+ticker+'.csv')\n",
    "\n",
    "            #\n",
    "            tickers_loaded.append(ticker)\n",
    "\n",
    "        except:\n",
    "            #raise\n",
    "            print(ticker,': Error loading information for ticker ',ticker)\n",
    "            bad_tickers.add(ticker)\n",
    "\n",
    "    tickers_left = sorted(set(tickers_left)-set(tickers_loaded))\n",
    "    num_round+=1"
   ]
  }
 ],
 "metadata": {
  "kernelspec": {
   "display_name": "Python 3",
   "language": "python",
   "name": "python3"
  },
  "language_info": {
   "codemirror_mode": {
    "name": "ipython",
    "version": 3
   },
   "file_extension": ".py",
   "mimetype": "text/x-python",
   "name": "python",
   "nbconvert_exporter": "python",
   "pygments_lexer": "ipython3",
   "version": "3.6.1"
  }
 },
 "nbformat": 4,
 "nbformat_minor": 2
}
