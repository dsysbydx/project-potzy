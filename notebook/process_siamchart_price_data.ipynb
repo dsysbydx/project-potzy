{
 "cells": [
  {
   "cell_type": "markdown",
   "metadata": {},
   "source": [
    "## PROCESS DATA FILE FROM set-siamchart\n",
    "Goal: to create an initial file for price data. Will create another job to update this file periodically from set data"
   ]
  },
  {
   "cell_type": "code",
   "execution_count": 1,
   "metadata": {
    "collapsed": true
   },
   "outputs": [],
   "source": [
    "%run 'header.ipynb'"
   ]
  },
  {
   "cell_type": "code",
   "execution_count": 171,
   "metadata": {
    "collapsed": true
   },
   "outputs": [],
   "source": [
    "import glob\n",
    "path='/Users/sunny/Downloads/set-archive_EOD_UPDATE/'\n",
    "all_files = glob.glob(path+'*.csv')\n",
    "\n",
    "df=pd.DataFrame()\n",
    "for fn in all_files:\n",
    "    df = df.append(pd.read_csv(fn))\n",
    "    \n",
    "#set columns\n",
    "df.columns = [x.replace('<','').replace('>','').lower() for x in df.columns]\n",
    "df.rename(columns={'dtyyyymmdd':'date'},inplace=True)\n",
    "df['date']=df['date'].astype('str')\n",
    "\n",
    "#format dates\n",
    "df['date']=pd.to_datetime(df['date'],format='%Y%m%d').dt.date\n",
    "df.set_index('date',inplace=True)\n",
    "\n",
    "#save dagta\n",
    "ensure_dir('/Users/sunny/GoogleDrive/SunnyDoc/StockData/thai_stocks_price_data_initial.csv')\n",
    "df.to_csv('/Users/sunny/GoogleDrive/SunnyDoc/StockData/thai_stocks_price_data_initial.csv')"
   ]
  },
  {
   "cell_type": "code",
   "execution_count": 2,
   "metadata": {
    "collapsed": true
   },
   "outputs": [],
   "source": [
    "%run 'header.ipynb'\n",
    "df = pd.read_csv('/Users/sunny/GoogleDrive/SunnyDoc/StockData/thai_stocks_price_data_initial.csv',index_col=[0])\n",
    "df.index = pd.DatetimeIndex(df.index).date\n",
    "df.index.name='date'"
   ]
  },
  {
   "cell_type": "code",
   "execution_count": 5,
   "metadata": {},
   "outputs": [
    {
     "data": {
      "text/plain": [
       "746"
      ]
     },
     "execution_count": 5,
     "metadata": {},
     "output_type": "execute_result"
    }
   ],
   "source": [
    "from potzy.setdatareader import *\n",
    "from metadata import *\n",
    "all_tickers= get_all_thai_tickers()\n",
    "len(all_tickers)"
   ]
  },
  {
   "cell_type": "code",
   "execution_count": 11,
   "metadata": {},
   "outputs": [
    {
     "name": "stdout",
     "output_type": "stream",
     "text": [
      "Bad ticker:  CPNRF\n",
      "Bad ticker:  DTCPF\n",
      "Bad ticker:  PRANDA\n",
      "Bad ticker:  SSTSS\n",
      "Bad ticker:  TFUND\n",
      "Bad ticker:  TGROWTH\n",
      "Bad ticker:  TLOGIS\n",
      "Bad ticker:  UNIPF\n",
      "Bad ticker:  WHAPF\n"
     ]
    }
   ],
   "source": [
    "dff = df.copy()\n",
    "bad_tickers=[]\n",
    "for ticker in all_tickers:\n",
    "    try:\n",
    "        tmp=load_price_data_from_set(ticker)\n",
    "        tmp.set_index('date',inplace=True)\n",
    "        tmp.index = pd.to_datetime(tmp.index,dayfirst=True).date\n",
    "        tmp.index.name='date'\n",
    "        tmp.sort_index(inplace=True)\n",
    "        tmp['ticker']=ticker\n",
    "\n",
    "        #add volumne columns\n",
    "        volumne_col='total volume(shares)'\n",
    "        tmp['vol']=tmp[volumne_col]\n",
    "\n",
    "        #filter columne\n",
    "        cols=list(df.columns)\n",
    "        tmp=tmp[cols]\n",
    "\n",
    "        #filter date\n",
    "        tmp=tmp[tmp.index>=df[df.ticker==ticker].index.max()]\n",
    "        \n",
    "        ## append\n",
    "        dff=dff.append(tmp)\n",
    "    except:\n",
    "        bad_tickers.append(ticker)\n",
    "        print(\"Bad ticker: \",ticker)\n",
    "\n",
    "dff.drop_duplicates(inplace=True)"
   ]
  },
  {
   "cell_type": "code",
   "execution_count": 34,
   "metadata": {
    "collapsed": true
   },
   "outputs": [],
   "source": [
    "#sanity check data\n",
    "dff.to_csv('/Users/sunny/GoogleDrive/SunnyDoc/StockData/thai_stocks_price_data_siamchart_plus_set.csv')"
   ]
  },
  {
   "cell_type": "markdown",
   "metadata": {},
   "source": [
    "## ADD SPLITTING DATA"
   ]
  },
  {
   "cell_type": "code",
   "execution_count": 1,
   "metadata": {
    "collapsed": true
   },
   "outputs": [],
   "source": [
    "%run 'header.ipynb'"
   ]
  },
  {
   "cell_type": "code",
   "execution_count": null,
   "metadata": {},
   "outputs": [
    {
     "name": "stderr",
     "output_type": "stream",
     "text": [
      "/Users/sunny/anaconda3/lib/python3.6/site-packages/IPython/core/interactiveshell.py:2698: DtypeWarning: Columns (2,3,4,5,6) have mixed types. Specify dtype option on import or set low_memory=False.\n",
      "  interactivity=interactivity, compiler=compiler, result=result)\n"
     ]
    },
    {
     "name": "stdout",
     "output_type": "stream",
     "text": [
      "1329366 114\n",
      "1329443\n"
     ]
    }
   ],
   "source": [
    "'## load \n",
    "\n",
    "df = pd.read_csv('/Users/sunny/GoogleDrive/SunnyDoc/StockData/thai_stocks_price_data_siamchart_plus_set.csv',index_col=[0])\n",
    "df.index = pd.DatetimeIndex(df.index).date\n",
    "df.index.name='date'\n",
    "\n",
    "#add previous date for debugging\n",
    "#df.sort_index(inplace=True)\n",
    "#df['close_prev']=df.groupby('ticker')['close'].transform(lambda x: x.shift(1))\n",
    "#df['close_next']=df.groupby('ticker')['close'].transform(lambda x: x.shift(-1))\n",
    "\n",
    "### load splitting data\n",
    "df_split = pd.read_csv('../data/meta/thai_stock_splitting.csv',index_col=[0])\n",
    "df_split['date']=pd.to_datetime(df_split['date'].astype('str'),format='%Y-%m-%d').dt.date\n",
    "df_split.set_index('date',inplace=True)\n",
    "df_split.sort_index(inplace=True)\n",
    "\n",
    "## add cumulative adj_factor\n",
    "df_split['adj_factor']=df_split['par']*1.0/df_split['par_prev']\n",
    "df_split['cum_adj_factor']=df_split.groupby('ticker')['adj_factor'].transform(lambda x: np.cumprod(x[::-1])[::-1])\n",
    "\n",
    "## merge \n",
    "print(len(df),len(df_split))\n",
    "cols=['date','ticker','cum_adj_factor']\n",
    "df=pd.merge(df.reset_index(),df_split.reset_index()[cols],how='outer',on=['date','ticker']).set_index('date')\n",
    "print(len(df))\n",
    "\n",
    "df.sort_index(inplace=True)\n",
    "tmp=df.groupby('ticker')['cum_adj_factor'].transform(lambda x: x.fillna(method='bfill').fillna(1.0).shift(-1))\n",
    "df['adj_factor']=tmp.values\n",
    "del tmp\n",
    "\n",
    "## adjust price\n",
    "price_cols = ['open','high','low','close']\n",
    "adj_price_cols = ['adj_'+x for x in price_cols]\n",
    "for i in range(len(price_cols)):\n",
    "    df[adj_price_cols[i]]=df[price_cols[i]]*df['adj_factor']\n",
    "    \n",
    "df=df[['ticker']+price_cols+adj_price_cols+['adj_factor']]\n",
    "\n",
    "df.to_csv('../data/price/thai_price_all_20170304.csv')'"
   ]
  },
  {
   "cell_type": "code",
   "execution_count": null,
   "metadata": {
    "collapsed": true
   },
   "outputs": [],
   "source": [
    "df[df.ticker=='HMPRO']['adj_close'].plot()"
   ]
  },
  {
   "cell_type": "code",
   "execution_count": 127,
   "metadata": {
    "collapsed": true
   },
   "outputs": [],
   "source": [
    "df.to_csv('../data/price/thai_price_all_20170304.csv')"
   ]
  }
 ],
 "metadata": {
  "kernelspec": {
   "display_name": "Python 3",
   "language": "python",
   "name": "python3"
  },
  "language_info": {
   "codemirror_mode": {
    "name": "ipython",
    "version": 3
   },
   "file_extension": ".py",
   "mimetype": "text/x-python",
   "name": "python",
   "nbconvert_exporter": "python",
   "pygments_lexer": "ipython3",
   "version": "3.6.2"
  }
 },
 "nbformat": 4,
 "nbformat_minor": 2
}
