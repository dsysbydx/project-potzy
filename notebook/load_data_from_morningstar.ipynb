{
 "cells": [
  {
   "cell_type": "code",
   "execution_count": 19,
   "metadata": {},
   "outputs": [
    {
     "name": "stdout",
     "output_type": "stream",
     "text": [
      "The autoreload extension is already loaded. To reload it, use:\n",
      "  %reload_ext autoreload\n"
     ]
    }
   ],
   "source": [
    "import pandas as pd\n",
    "import sys\n",
    "sys.path.append('../')\n",
    "sys.path.append('../potzy/')\n",
    "\n",
    "#LOG IN INTO SIAMCHART\n",
    "import potzy.metadata\n",
    "import potzy.helpers\n",
    "import potzy.morningstarreader as ms\n",
    "\n",
    "%load_ext autoreload\n",
    "%autoreload\n",
    "\n",
    "all_tickers = potzy.metadata.get_all_thai_tickers()"
   ]
  },
  {
   "cell_type": "code",
   "execution_count": 20,
   "metadata": {},
   "outputs": [
    {
     "name": "stdout",
     "output_type": "stream",
     "text": [
      "APEX : Multiple end-of-year months: Weird.\n",
      "APEX : Checking columns ... \n",
      "APEX :  Index(['item', '2006-06', '2007-06', '2009-12', '2010-12', '2011-12',\n",
      "       '2012-12', '2013-12', '2014-12', '2015-12', '2016-12', 'TTM', 'ticker'],\n",
      "      dtype='object')\n",
      "CNS : Multiple end-of-year months: Weird.\n",
      "CNS : Checking columns ... \n",
      "CNS :  Index(['item', '2007-08', '2008-08', '2009-08', '2010-08', '2011-08',\n",
      "       '2012-12', '2013-12', '2014-12', '2015-12', '2016-12', 'TTM', 'ticker'],\n",
      "      dtype='object')\n",
      "EASTW : Multiple end-of-year months: Weird.\n",
      "EASTW : Checking columns ... \n",
      "EASTW :  Index(['item', '2007-09', '2008-09', '2009-12', '2010-12', '2011-12',\n",
      "       '2012-12', '2013-12', '2014-12', '2015-12', '2016-12', 'TTM', 'ticker'],\n",
      "      dtype='object')\n",
      "KBS : Multiple end-of-year months: Weird.\n",
      "KBS : Checking columns ... \n",
      "KBS :  Index(['item', '2008-09', '2009-09', '2010-09', '2011-09', '2011-12',\n",
      "       '2012-12', '2013-12', '2014-12', '2015-12', '2016-12', 'TTM', 'ticker'],\n",
      "      dtype='object')\n",
      "LTX : Multiple end-of-year months: Weird.\n",
      "LTX : Checking columns ... \n",
      "LTX :  Index(['item', '2008-03', '2009-03', '2010-03', '2011-12', '2012-12',\n",
      "       '2013-12', '2014-12', '2015-03', '2016-03', '2017-03', 'TTM', 'ticker'],\n",
      "      dtype='object')\n",
      "MBK : Multiple end-of-year months: Weird.\n",
      "MBK : Checking columns ... \n",
      "MBK :  Index(['item', '2007-06', '2008-06', '2009-06', '2010-06', '2011-06',\n",
      "       '2012-12', '2013-12', '2014-12', '2015-12', '2016-12', 'TTM', 'ticker'],\n",
      "      dtype='object')\n",
      "OISHI : Multiple end-of-year months: Weird.\n",
      "OISHI : Checking columns ... \n",
      "OISHI :  Index(['item', '2007-12', '2008-12', '2009-12', '2010-12', '2011-12',\n",
      "       '2012-12', '2013-12', '2014-12', '2015-12', '2017-09', 'TTM', 'ticker'],\n",
      "      dtype='object')\n",
      "PL : Multiple end-of-year months: Weird.\n",
      "PL : Checking columns ... \n",
      "PL :  Index(['item', '2007-09', '2008-09', '2009-09', '2010-12', '2011-12',\n",
      "       '2012-12', '2013-12', '2014-12', '2015-12', '2016-12', 'TTM', 'ticker'],\n",
      "      dtype='object')\n",
      "PRG : Multiple end-of-year months: Weird.\n",
      "PRG : Checking columns ... \n",
      "PRG :  Index(['item', '2007-06', '2008-06', '2009-06', '2010-06', '2011-06',\n",
      "       '2012-12', '2013-12', '2014-12', '2015-12', '2016-12', 'TTM', 'ticker'],\n",
      "      dtype='object')\n",
      "SFP : Multiple end-of-year months: Weird.\n",
      "SFP : Checking columns ... \n",
      "SFP :  Index(['item', '2007-12', '2008-12', '2009-12', '2010-12', '2011-12',\n",
      "       '2012-12', '2013-12', '2014-12', '2015-12', '2017-09', 'TTM', 'ticker'],\n",
      "      dtype='object')\n",
      "SIAM : Multiple end-of-year months: Weird.\n",
      "SIAM : Checking columns ... \n",
      "SIAM :  Index(['item', '2007-06', '2008-06', '2009-06', '2010-06', '2011-06',\n",
      "       '2012-06', '2013-06', '2014-06', '2015-06', '2016-12', 'TTM', 'ticker'],\n",
      "      dtype='object')\n",
      "SSC : Multiple end-of-year months: Weird.\n",
      "SSC : Checking columns ... \n",
      "SSC :  Index(['item', '2007-12', '2008-12', '2009-12', '2010-12', '2011-12',\n",
      "       '2012-12', '2013-12', '2014-12', '2015-12', '2017-09', 'TTM', 'ticker'],\n",
      "      dtype='object')\n",
      "TCB : Multiple end-of-year months: Weird.\n",
      "TCB : Checking columns ... \n",
      "TCB :  Index(['item', '2007-12', '2008-12', '2009-12', '2010-12', '2011-12',\n",
      "       '2012-12', '2014-03', '2015-03', '2016-03', '2017-03', 'TTM', 'ticker'],\n",
      "      dtype='object')\n",
      "THAI : Multiple end-of-year months: Weird.\n",
      "THAI : Checking columns ... \n",
      "THAI :  Index(['item', '2007-09', '2008-12', '2009-12', '2010-12', '2011-12',\n",
      "       '2012-12', '2013-12', '2014-12', '2015-12', '2016-12', 'TTM', 'ticker'],\n",
      "      dtype='object')\n",
      "TR : Multiple end-of-year months: Weird.\n",
      "TR : Checking columns ... \n",
      "TR :  Index(['item', '2007-09', '2008-09', '2009-09', '2010-09', '2011-09',\n",
      "       '2013-03', '2014-03', '2015-03', '2016-03', '2017-03', 'TTM', 'ticker'],\n",
      "      dtype='object')\n",
      "TSC : Multiple end-of-year months: Weird.\n",
      "TSC : Checking columns ... \n",
      "TSC :  Index(['item', '2007-12', '2008-12', '2009-12', '2010-12', '2011-12',\n",
      "       '2013-09', '2014-09', '2015-09', '2016-09', '2017-09', 'TTM', 'ticker'],\n",
      "      dtype='object')\n",
      "TTA : Multiple end-of-year months: Weird.\n",
      "TTA : Checking columns ... \n",
      "TTA :  Index(['item', '2007-09', '2008-09', '2009-09', '2010-09', '2011-09',\n",
      "       '2012-09', '2013-09', '2014-09', '2015-12', '2016-12', 'TTM', 'ticker'],\n",
      "      dtype='object')\n",
      "TTTM : Multiple end-of-year months: Weird.\n",
      "TTTM : Checking columns ... \n",
      "TTTM :  Index(['item', '2008-12', '2009-12', '2010-12', '2011-12', '2012-12',\n",
      "       '2013-12', '2014-12', '2015-03', '2016-03', '2017-03', 'TTM', 'ticker'],\n",
      "      dtype='object')\n",
      "UMS : Multiple end-of-year months: Weird.\n",
      "UMS : Checking columns ... \n",
      "UMS :  Index(['item', '2006-12', '2007-12', '2008-12', '2009-12', '2011-09',\n",
      "       '2012-09', '2013-09', '2014-09', '2015-12', '2016-12', 'TTM', 'ticker'],\n",
      "      dtype='object')\n",
      "VTE : Multiple end-of-year months: Weird.\n",
      "VTE : Checking columns ... \n",
      "VTE :  Index(['item', '2008-06', '2009-06', '2010-06', '2011-06', '2012-06',\n",
      "       '2012-12', '2013-12', '2014-12', '2015-12', '2016-12', 'TTM', 'ticker'],\n",
      "      dtype='object')\n",
      "WORLD : Multiple end-of-year months: Weird.\n",
      "WORLD : Checking columns ... \n",
      "WORLD :  Index(['item', '2008-12', '2009-12', '2010-12', '2011-12', '2012-12',\n",
      "       '2013-05', '2014-05', '2015-05', '2016-05', '2017-05', 'TTM', 'ticker'],\n",
      "      dtype='object')\n"
     ]
    }
   ],
   "source": [
    "df=pd.DataFrame()\n",
    "bad_tickers=set()\n",
    "for ticker in all_tickers:\n",
    "#for ticker in ['CPALL','HMPRO']:\n",
    "    try:\n",
    "        dfs = ms.load_key_ratio_thai(ticker).reset_index()\n",
    "        dfs['ticker']=ticker\n",
    "        \n",
    "        tmp=set([int(x.split('-')[-1]) for x in dfs.columns if '-' in x])\n",
    "        if len(tmp) > 1:\n",
    "            print(ticker,\": Multiple end-of-year months: Weird.\")\n",
    "            print(ticker,\": Checking columns ... \")\n",
    "            print(ticker,\": \",dfs.columns)\n",
    "        dfs['endofyear_month']= next(iter(tmp))\n",
    "        \n",
    "        #replace columns\n",
    "        dfs.columns = [x.split('-')[0] for x in dfs.columns]\n",
    "        \n",
    "        #append to \n",
    "        df = df.append(dfs,ignore_index=True)\n",
    "        \n",
    "    except:\n",
    "        bad_tickers.add(ticker)"
   ]
  },
  {
   "cell_type": "code",
   "execution_count": 21,
   "metadata": {},
   "outputs": [
    {
     "data": {
      "text/plain": [
       "(62, 684)"
      ]
     },
     "execution_count": 21,
     "metadata": {},
     "output_type": "execute_result"
    }
   ],
   "source": [
    "#count numbaer of tickers\n",
    "len(bad_tickers),len(df.ticker.unique())"
   ]
  },
  {
   "cell_type": "code",
   "execution_count": 22,
   "metadata": {
    "collapsed": true,
    "scrolled": false
   },
   "outputs": [],
   "source": [
    "output_file = \"../data/morningstar/ks_thai_all.csv\"\n",
    "potzy.helpers.ensure_dir(output_file)\n",
    "df.to_csv(output_file)"
   ]
  },
  {
   "cell_type": "code",
   "execution_count": null,
   "metadata": {
    "collapsed": true
   },
   "outputs": [],
   "source": []
  }
 ],
 "metadata": {
  "kernelspec": {
   "display_name": "Python 3",
   "language": "python",
   "name": "python3"
  },
  "language_info": {
   "codemirror_mode": {
    "name": "ipython",
    "version": 3
   },
   "file_extension": ".py",
   "mimetype": "text/x-python",
   "name": "python",
   "nbconvert_exporter": "python",
   "pygments_lexer": "ipython3",
   "version": "3.6.2"
  }
 },
 "nbformat": 4,
 "nbformat_minor": 2
}
