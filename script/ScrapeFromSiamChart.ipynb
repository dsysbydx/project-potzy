{
 "cells": [
  {
   "cell_type": "code",
   "execution_count": 235,
   "metadata": {
    "collapsed": true
   },
   "outputs": [],
   "source": [
    "import pandas as pd\n",
    "import numpy as np\n",
    "import seaborn as sns\n",
    "sns.set_style('darkgrid')\n",
    "%matplotlib inline"
   ]
  },
  {
   "cell_type": "code",
   "execution_count": 100,
   "metadata": {
    "collapsed": false
   },
   "outputs": [],
   "source": [
    "from selenium import webdriver\n",
    "path_to_chromedriver = '/Users/Sunny/Desktop/chromedriver' # change path as needed\n",
    "browser = webdriver.Chrome(executable_path = path_to_chromedriver)"
   ]
  },
  {
   "cell_type": "code",
   "execution_count": 170,
   "metadata": {
    "collapsed": false
   },
   "outputs": [],
   "source": [
    "url = 'http://siamchart.com/stock-info/INTUCH/'\n",
    "browser.get(url)"
   ]
  },
  {
   "cell_type": "code",
   "execution_count": 199,
   "metadata": {
    "collapsed": false
   },
   "outputs": [],
   "source": [
    "# is it alwasy div 6\n",
    "data=[]\n",
    "for tr in browser.find_elements_by_xpath('//*[@id=\"data_table\"]/div[6]/table/tbody/*'):\n",
    "    tds = tr.find_elements_by_tag_name('td')\n",
    "    if tds: \n",
    "        data.append([td.text for td in tds])        \n",
    "#click diplayQoQ\n",
    "\n",
    "\n",
    "#load data QoQ\n",
    "\n"
   ]
  },
  {
   "cell_type": "code",
   "execution_count": 230,
   "metadata": {
    "collapsed": false
   },
   "outputs": [],
   "source": [
    "df=pd.DataFrame(data)\n",
    "df=df.apply(lambda x: x.replace('',np.nan)).dropna(axis=1,how='all').dropna().set_index(df.columns[0])\n",
    "df.index = [s.replace('\\n','') for s in df.index]\n",
    "df=df.applymap(lambda x: x[:x.find('\\n')])\n",
    "df.columns = [int(x[:4]) for x in df.ix[0,:]]\n",
    "df=df[1:].applymap(lambda x: float(x.replace(',',''))).T.sort_index()"
   ]
  },
  {
   "cell_type": "code",
   "execution_count": 227,
   "metadata": {
    "collapsed": false
   },
   "outputs": [],
   "source": [
    "df.to_csv('')"
   ]
  },
  {
   "cell_type": "code",
   "execution_count": 236,
   "metadata": {
    "collapsed": false
   },
   "outputs": [
    {
     "data": {
      "text/plain": [
       "<matplotlib.axes._subplots.AxesSubplot at 0x115daf470>"
      ]
     },
     "execution_count": 236,
     "metadata": {},
     "output_type": "execute_result"
    },
    {
     "data": {
      "image/png": "[encoded data removed]",
      "text/plain": [
       "<matplotlib.figure.Figure at 0x115d06b38>"
      ]
     },
     "metadata": {},
     "output_type": "display_data"
    }
   ],
   "source": [
    "df['รวมค่าใช้จ่าย'].plot(kind='bar')"
   ]
  }
 ],
 "metadata": {
  "kernelspec": {
   "display_name": "Python 3",
   "language": "python",
   "name": "python3"
  },
  "language_info": {
   "codemirror_mode": {
    "name": "ipython",
    "version": 3
   },
   "file_extension": ".py",
   "mimetype": "text/x-python",
   "name": "python",
   "nbconvert_exporter": "python",
   "pygments_lexer": "ipython3",
   "version": "3.6.0"
  }
 },
 "nbformat": 4,
 "nbformat_minor": 2
}
